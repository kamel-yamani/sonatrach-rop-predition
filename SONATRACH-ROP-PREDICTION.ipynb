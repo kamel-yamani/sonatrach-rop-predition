{
  "cells": [
    {
      "cell_type": "markdown",
      "metadata": {
        "id": "q8xy07NT1rEt"
      },
      "source": [
        "# HAICK 2023<br/>\n",
        "### Sonatrach ROP Prediction"
      ]
    },
    {
      "cell_type": "markdown",
      "metadata": {
        "id": "ng6ytdxediWA"
      },
      "source": [
        "# Utils"
      ]
    },
    {
      "cell_type": "code",
      "execution_count": null,
      "metadata": {
        "id": "mC9_dBY_QzVB"
      },
      "outputs": [],
      "source": [
        "!kaggle competitions download -c sonatrach-rop-prediction"
      ]
    },
    {
      "cell_type": "code",
      "execution_count": null,
      "metadata": {
        "id": "XJctK3UqRFrP"
      },
      "outputs": [],
      "source": [
        "!unzip sonatrach-rop-prediction.zip"
      ]
    },
    {
      "cell_type": "code",
      "execution_count": null,
      "metadata": {
        "id": "5a0pX6w423dh"
      },
      "outputs": [],
      "source": [
        "! pip install optuna"
      ]
    },
    {
      "cell_type": "code",
      "execution_count": null,
      "metadata": {
        "id": "yX-K8TcJ24vz"
      },
      "outputs": [],
      "source": [
        "! pip install featurewiz"
      ]
    },
    {
      "cell_type": "markdown",
      "metadata": {
        "id": "x450UJN82H-G"
      },
      "source": [
        "# Importations"
      ]
    },
    {
      "cell_type": "code",
      "execution_count": 2,
      "metadata": {
        "colab": {
          "base_uri": "https://localhost:8080/"
        },
        "id": "ZG0l7uo_RdXS",
        "outputId": "98f3ffec-8272-4603-c852-23a7ecb98493"
      },
      "outputs": [
        {
          "name": "stdout",
          "output_type": "stream",
          "text": [
            "Imported 0.2.04 version. Select nrows to a small number when running on huge datasets.\n",
            "output = featurewiz(dataname, target, corr_limit=0.90, verbose=2, sep=',', \n",
            "\t\theader=0, test_data='',feature_engg='', category_encoders='',\n",
            "\t\tdask_xgboost_flag=False, nrows=None, skip_sulov=False)\n",
            "Create new features via 'feature_engg' flag : ['interactions','groupby','target']\n",
            "\n"
          ]
        }
      ],
      "source": [
        "import numpy as np \n",
        "import pandas as pd \n",
        "\n",
        "from sklearn.model_selection import train_test_split\n",
        "from sklearn.metrics import r2_score\n",
        "from sklearn.preprocessing import StandardScaler\n",
        "from sklearn.metrics import mean_squared_error, mean_absolute_error\n",
        "\n",
        "import seaborn as sns\n",
        "import matplotlib.pyplot as plt\n",
        "\n",
        "import optuna\n",
        "from featurewiz import featurewiz"
      ]
    },
    {
      "cell_type": "code",
      "execution_count": 3,
      "metadata": {
        "id": "uYwFaUKhRQw5"
      },
      "outputs": [],
      "source": [
        "train_df = pd.read_csv('./train_dataset.csv')\n",
        "test_df = pd.read_csv('./test_dataset.csv')"
      ]
    },
    {
      "cell_type": "markdown",
      "metadata": {
        "id": "hS1uT8m6uGYY"
      },
      "source": [
        "# Data preparation"
      ]
    },
    {
      "cell_type": "markdown",
      "metadata": {
        "id": "dsOmS3e64USP"
      },
      "source": [
        "### Feature engineering and selection"
      ]
    },
    {
      "cell_type": "markdown",
      "metadata": {
        "id": "G12nX0QV4GcX"
      },
      "source": [
        "Searching for Uncorrelated List Of Variables (SULOV) and using recurcive xgboost feature selection."
      ]
    },
    {
      "cell_type": "code",
      "execution_count": null,
      "metadata": {
        "id": "gVT6FqbC8Q0P"
      },
      "outputs": [],
      "source": [
        "target = 'ROP (Time)'\n",
        " \n",
        "features, train = featurewiz(train_df, target, corr_limit=0.7, verbose=2, sep=\",\",\n",
        "header=0,test_data=\"\", feature_engg=\"\", category_encoders=\"\")"
      ]
    },
    {
      "cell_type": "code",
      "execution_count": null,
      "metadata": {
        "id": "lmigUl7-86E1"
      },
      "outputs": [],
      "source": [
        "train_df = train"
      ]
    },
    {
      "cell_type": "code",
      "execution_count": 5,
      "metadata": {
        "id": "j9RodBZN72SQ"
      },
      "outputs": [],
      "source": [
        "# Extract the features and target variable\n",
        "X = train_df.drop('ROP (Time)', axis=1)\n",
        "y = train_df['ROP (Time)']\n",
        "\n",
        "# Split the data into training and validation sets\n",
        "X_train, X_val, y_train, y_val = train_test_split(X, y, test_size=0.3, random_state=42)\n",
        "\n",
        "# Create a scaler object and fit it on the training data\n",
        "scaler = StandardScaler()\n",
        "scaler.fit(X)\n",
        "\n",
        "# Transform the training and validation data using the scaler\n",
        "X_train_scaled = scaler.transform(X_train)\n",
        "X_val_scaled = scaler.transform(X_val)"
      ]
    },
    {
      "cell_type": "markdown",
      "metadata": {
        "id": "rH-8IX6kuHlK"
      },
      "source": [
        "# Modeling"
      ]
    },
    {
      "cell_type": "markdown",
      "metadata": {
        "id": "BYOOHlny6g2w"
      },
      "source": [
        "### Simple ML Models"
      ]
    },
    {
      "cell_type": "code",
      "execution_count": 6,
      "metadata": {
        "id": "UTUa4ZY2mxxG"
      },
      "outputs": [],
      "source": [
        "from sklearn.linear_model import LinearRegression\n",
        "from sklearn.tree import DecisionTreeRegressor\n",
        "from sklearn.ensemble import RandomForestRegressor\n",
        "from xgboost.sklearn import XGBRegressor\n",
        "from lightgbm import LGBMRegressor"
      ]
    },
    {
      "cell_type": "code",
      "execution_count": 8,
      "metadata": {
        "colab": {
          "base_uri": "https://localhost:8080/"
        },
        "id": "ICC769t6U180",
        "outputId": "fd20e0a3-ab94-433f-c6ae-04bdf456a6c9"
      },
      "outputs": [
        {
          "name": "stdout",
          "output_type": "stream",
          "text": [
            "Linear Regression:\n",
            "Root Mean squared error: 13.27957244621788\n",
            "R-squared: 0.6684060977630195\n",
            "Decision Tree:\n",
            "Root Mean squared error: 5.096187572860498\n",
            "R-squared: 0.9511652285590678\n",
            "Random Forest:\n",
            "Root Mean squared error: 3.7082631722888415\n",
            "R-squared: 0.974142921933382\n",
            "LGBM:\n",
            "Root Mean squared error: 6.001762270522202\n",
            "R-squared: 0.9322676835783047\n",
            "XGBoost:\n",
            "Root Mean squared error: 5.05779506433026\n",
            "R-squared: 0.9518982577276551\n"
          ]
        }
      ],
      "source": [
        "# Define models to fit and evaluate\n",
        "models = {\n",
        "    'Linear Regression' : LinearRegression(),\n",
        "    'Decision Tree' : DecisionTreeRegressor(),\n",
        "    'Random Forest' : RandomForestRegressor(n_estimators=100),\n",
        "    'LGBM' :  LGBMRegressor(),\n",
        "    'XGBoost' : XGBRegressor()\n",
        "}\n",
        "\n",
        "# Fit and evaluate each model\n",
        "for name, model in models.items():\n",
        "    # Fit the model\n",
        "    model.fit(X_train_scaled, y_train)\n",
        "    \n",
        "    # Predict on test set\n",
        "    y_pred = model.predict(X_val_scaled)\n",
        "    \n",
        "    # Print results\n",
        "    print(f'{name}:')\n",
        "    r2 = r2_score(y_val, y_pred)\n",
        "    rmse = mean_squared_error(y_val, y_pred , squared=False)\n",
        "\n",
        "    print(\"Root Mean squared error:\", rmse)\n",
        "    print('R-squared:', r2)"
      ]
    },
    {
      "cell_type": "markdown",
      "metadata": {
        "id": "Gq6VNLPl7Rfh"
      },
      "source": [
        "### Hyperparameters tuning"
      ]
    },
    {
      "cell_type": "markdown",
      "metadata": {
        "id": "9YTySNMb7YjK"
      },
      "source": [
        "We use Optuna to automize the hyperparameters tuning for Random Forest Regressor."
      ]
    },
    {
      "cell_type": "code",
      "execution_count": 9,
      "metadata": {
        "id": "XB_IumjHCqEF"
      },
      "outputs": [],
      "source": [
        "def objective(trial):\n",
        "    # Define the hyperparameters to optimize\n",
        "    n_estimators = trial.suggest_int('n_estimators', 100, 1000, step=100)\n",
        "    \n",
        "    # Create a model with the optimized hyperparameters\n",
        "    model = RandomForestRegressor( n_estimators=n_estimators)\n",
        "    \n",
        "    # Fit the model on the training data\n",
        "    model.fit(X_train_scaled, y_train)\n",
        "    \n",
        "    # Make predictions on the validation data\n",
        "    y_pred = model.predict(X_val_scaled)\n",
        "    \n",
        "    # Calculate the mean squared error\n",
        "    rmse = mean_squared_error(y_val, y_pred, squared=False)\n",
        "    \n",
        "    # Return the mean squared error as the objective value\n",
        "    return rmse"
      ]
    },
    {
      "cell_type": "code",
      "execution_count": null,
      "metadata": {
        "id": "n6UguDv6Ddrr"
      },
      "outputs": [],
      "source": [
        "study = optuna.create_study(direction='minimize')\n",
        "study.optimize(objective, n_trials=100)"
      ]
    },
    {
      "cell_type": "code",
      "execution_count": null,
      "metadata": {
        "id": "OcUdRulzDm3g"
      },
      "outputs": [],
      "source": [
        "print('Best hyperparameters: ', study.best_params)\n",
        "print('Best MSE: ', study.best_value)"
      ]
    },
    {
      "cell_type": "code",
      "execution_count": null,
      "metadata": {
        "colab": {
          "base_uri": "https://localhost:8080/"
        },
        "id": "atYpiBO4DrJK",
        "outputId": "403d91ea-1c2c-4c96-e9f5-ec1aae542850"
      },
      "outputs": [
        {
          "data": {
            "text/plain": [
              "RandomForestRegressor(n_estimators=200)"
            ]
          },
          "execution_count": 50,
          "metadata": {},
          "output_type": "execute_result"
        }
      ],
      "source": [
        "best_params = {'n_estimators': 200}\n",
        "\n",
        "final_model = RandomForestRegressor(n_estimators=best_params['n_estimators'])\n",
        "\n",
        "final_model.fit(X_train_scaled, y_train)"
      ]
    },
    {
      "cell_type": "code",
      "execution_count": null,
      "metadata": {
        "colab": {
          "base_uri": "https://localhost:8080/"
        },
        "id": "NOiRmlrwcx1w",
        "outputId": "dc7d6046-8304-47dc-b974-556828a93b0b"
      },
      "outputs": [
        {
          "name": "stdout",
          "output_type": "stream",
          "text": [
            "Root Mean squared error: 3.684890897962144\n"
          ]
        }
      ],
      "source": [
        "y_pred = final_model.predict(X_val_scaled)\n",
        "\n",
        "rmse = mean_squared_error(y_val, y_pred , squared=False)\n",
        "print(\"Root Mean squared error:\", rmse)"
      ]
    },
    {
      "attachments": {},
      "cell_type": "markdown",
      "metadata": {
        "id": "ZBtMmoKjsUEt"
      },
      "source": [
        "### Boosting"
      ]
    },
    {
      "cell_type": "markdown",
      "metadata": {
        "id": "qC1Ejrs16s_Q"
      },
      "source": [
        "Train Ada Boost Regressor for the entire dataset."
      ]
    },
    {
      "cell_type": "code",
      "execution_count": null,
      "metadata": {
        "id": "rtCwMnQztoL8"
      },
      "outputs": [],
      "source": [
        "from sklearn.ensemble import AdaBoostRegressor\n",
        "\n",
        "adaboost = AdaBoostRegressor(base_estimator=RandomForestRegressor(), n_estimators=200)\n",
        "\n",
        "# fit the model\n",
        "adaboost.fit(X, y)\n",
        "\n",
        "# make predictions\n",
        "y_pred = adaboost.predict(X_val)"
      ]
    },
    {
      "cell_type": "code",
      "execution_count": 72,
      "metadata": {
        "id": "MUeUBlT-Zg7z"
      },
      "outputs": [],
      "source": [
        "y_test_pred = adaboost.predict(X_test)"
      ]
    },
    {
      "cell_type": "code",
      "execution_count": 70,
      "metadata": {
        "colab": {
          "base_uri": "https://localhost:8080/"
        },
        "id": "uUU4_YOuxiFd",
        "outputId": "310e18c1-4643-4c9d-950c-2a1dc0204533"
      },
      "outputs": [
        {
          "name": "stdout",
          "output_type": "stream",
          "text": [
            "Root Mean squared error: 0.17900668671557662\n",
            "R-squared: 0.9999397472520198\n"
          ]
        }
      ],
      "source": [
        "r2 = r2_score(y_val, y_pred)\n",
        "rmse = mean_squared_error(y_val, y_pred , squared=False)\n",
        "print(\"Root Mean squared error:\", rmse)\n",
        "print('R-squared:', r2)"
      ]
    },
    {
      "cell_type": "markdown",
      "metadata": {
        "id": "kIY51fCkg06g"
      },
      "source": [
        "# Submission"
      ]
    },
    {
      "cell_type": "code",
      "execution_count": 10,
      "metadata": {
        "id": "wv_uIGWm0P8h"
      },
      "outputs": [],
      "source": [
        "X_test = pd.read_csv('./test_dataset.csv')"
      ]
    },
    {
      "cell_type": "code",
      "execution_count": 11,
      "metadata": {
        "id": "Pp_od8Uq-7VX"
      },
      "outputs": [],
      "source": [
        "X_test = X_test[features]"
      ]
    },
    {
      "cell_type": "code",
      "execution_count": null,
      "metadata": {
        "id": "J7WPK8piXPSj"
      },
      "outputs": [],
      "source": [
        "X_test_scaled = scaler.transform(X_test)"
      ]
    },
    {
      "cell_type": "code",
      "execution_count": 55,
      "metadata": {
        "id": "59b2RGargqJZ"
      },
      "outputs": [],
      "source": [
        "y_test_pred = final_model.predict(X_test_scaled)"
      ]
    },
    {
      "cell_type": "code",
      "execution_count": null,
      "metadata": {
        "colab": {
          "base_uri": "https://localhost:8080/"
        },
        "id": "BRFTGnzDZT63",
        "outputId": "411f9d81-5b01-41b0-a915-cc89865927b7"
      },
      "outputs": [
        {
          "data": {
            "text/plain": [
              "array([0., 0., 0., ..., 0., 0., 0.])"
            ]
          },
          "execution_count": 27,
          "metadata": {},
          "output_type": "execute_result"
        }
      ],
      "source": [
        "y_test_pred"
      ]
    },
    {
      "cell_type": "markdown",
      "metadata": {
        "id": "sjLx61mQ8oTe"
      },
      "source": [
        "Create a submission DataFrame"
      ]
    },
    {
      "cell_type": "code",
      "execution_count": 73,
      "metadata": {
        "id": "kKpfwiXkYwNR"
      },
      "outputs": [],
      "source": [
        "submission_df = pd.DataFrame(y_test_pred, columns=['ROP (Time)'])"
      ]
    },
    {
      "cell_type": "code",
      "execution_count": 74,
      "metadata": {
        "colab": {
          "base_uri": "https://localhost:8080/",
          "height": 424
        },
        "id": "a4QqiFfAZkxP",
        "outputId": "25af430e-c21b-431b-cb25-b2f0c8045f5e"
      },
      "outputs": [
        {
          "data": {
            "text/html": [
              "\n",
              "  <div id=\"df-607539cf-62e2-4cfb-8de3-c6a4701e9047\">\n",
              "    <div class=\"colab-df-container\">\n",
              "      <div>\n",
              "<style scoped>\n",
              "    .dataframe tbody tr th:only-of-type {\n",
              "        vertical-align: middle;\n",
              "    }\n",
              "\n",
              "    .dataframe tbody tr th {\n",
              "        vertical-align: top;\n",
              "    }\n",
              "\n",
              "    .dataframe thead th {\n",
              "        text-align: right;\n",
              "    }\n",
              "</style>\n",
              "<table border=\"1\" class=\"dataframe\">\n",
              "  <thead>\n",
              "    <tr style=\"text-align: right;\">\n",
              "      <th></th>\n",
              "      <th>ID</th>\n",
              "      <th>ROP (Time)</th>\n",
              "    </tr>\n",
              "  </thead>\n",
              "  <tbody>\n",
              "    <tr>\n",
              "      <th>0</th>\n",
              "      <td>0</td>\n",
              "      <td>0.0</td>\n",
              "    </tr>\n",
              "    <tr>\n",
              "      <th>1</th>\n",
              "      <td>1</td>\n",
              "      <td>0.0</td>\n",
              "    </tr>\n",
              "    <tr>\n",
              "      <th>2</th>\n",
              "      <td>2</td>\n",
              "      <td>0.0</td>\n",
              "    </tr>\n",
              "    <tr>\n",
              "      <th>3</th>\n",
              "      <td>3</td>\n",
              "      <td>0.0</td>\n",
              "    </tr>\n",
              "    <tr>\n",
              "      <th>4</th>\n",
              "      <td>4</td>\n",
              "      <td>0.0</td>\n",
              "    </tr>\n",
              "    <tr>\n",
              "      <th>...</th>\n",
              "      <td>...</td>\n",
              "      <td>...</td>\n",
              "    </tr>\n",
              "    <tr>\n",
              "      <th>14389</th>\n",
              "      <td>14389</td>\n",
              "      <td>0.0</td>\n",
              "    </tr>\n",
              "    <tr>\n",
              "      <th>14390</th>\n",
              "      <td>14390</td>\n",
              "      <td>0.0</td>\n",
              "    </tr>\n",
              "    <tr>\n",
              "      <th>14391</th>\n",
              "      <td>14391</td>\n",
              "      <td>0.0</td>\n",
              "    </tr>\n",
              "    <tr>\n",
              "      <th>14392</th>\n",
              "      <td>14392</td>\n",
              "      <td>0.0</td>\n",
              "    </tr>\n",
              "    <tr>\n",
              "      <th>14393</th>\n",
              "      <td>14393</td>\n",
              "      <td>0.0</td>\n",
              "    </tr>\n",
              "  </tbody>\n",
              "</table>\n",
              "<p>14394 rows × 2 columns</p>\n",
              "</div>\n",
              "      <button class=\"colab-df-convert\" onclick=\"convertToInteractive('df-607539cf-62e2-4cfb-8de3-c6a4701e9047')\"\n",
              "              title=\"Convert this dataframe to an interactive table.\"\n",
              "              style=\"display:none;\">\n",
              "        \n",
              "  <svg xmlns=\"http://www.w3.org/2000/svg\" height=\"24px\"viewBox=\"0 0 24 24\"\n",
              "       width=\"24px\">\n",
              "    <path d=\"M0 0h24v24H0V0z\" fill=\"none\"/>\n",
              "    <path d=\"M18.56 5.44l.94 2.06.94-2.06 2.06-.94-2.06-.94-.94-2.06-.94 2.06-2.06.94zm-11 1L8.5 8.5l.94-2.06 2.06-.94-2.06-.94L8.5 2.5l-.94 2.06-2.06.94zm10 10l.94 2.06.94-2.06 2.06-.94-2.06-.94-.94-2.06-.94 2.06-2.06.94z\"/><path d=\"M17.41 7.96l-1.37-1.37c-.4-.4-.92-.59-1.43-.59-.52 0-1.04.2-1.43.59L10.3 9.45l-7.72 7.72c-.78.78-.78 2.05 0 2.83L4 21.41c.39.39.9.59 1.41.59.51 0 1.02-.2 1.41-.59l7.78-7.78 2.81-2.81c.8-.78.8-2.07 0-2.86zM5.41 20L4 18.59l7.72-7.72 1.47 1.35L5.41 20z\"/>\n",
              "  </svg>\n",
              "      </button>\n",
              "      \n",
              "  <style>\n",
              "    .colab-df-container {\n",
              "      display:flex;\n",
              "      flex-wrap:wrap;\n",
              "      gap: 12px;\n",
              "    }\n",
              "\n",
              "    .colab-df-convert {\n",
              "      background-color: #E8F0FE;\n",
              "      border: none;\n",
              "      border-radius: 50%;\n",
              "      cursor: pointer;\n",
              "      display: none;\n",
              "      fill: #1967D2;\n",
              "      height: 32px;\n",
              "      padding: 0 0 0 0;\n",
              "      width: 32px;\n",
              "    }\n",
              "\n",
              "    .colab-df-convert:hover {\n",
              "      background-color: #E2EBFA;\n",
              "      box-shadow: 0px 1px 2px rgba(60, 64, 67, 0.3), 0px 1px 3px 1px rgba(60, 64, 67, 0.15);\n",
              "      fill: #174EA6;\n",
              "    }\n",
              "\n",
              "    [theme=dark] .colab-df-convert {\n",
              "      background-color: #3B4455;\n",
              "      fill: #D2E3FC;\n",
              "    }\n",
              "\n",
              "    [theme=dark] .colab-df-convert:hover {\n",
              "      background-color: #434B5C;\n",
              "      box-shadow: 0px 1px 3px 1px rgba(0, 0, 0, 0.15);\n",
              "      filter: drop-shadow(0px 1px 2px rgba(0, 0, 0, 0.3));\n",
              "      fill: #FFFFFF;\n",
              "    }\n",
              "  </style>\n",
              "\n",
              "      <script>\n",
              "        const buttonEl =\n",
              "          document.querySelector('#df-607539cf-62e2-4cfb-8de3-c6a4701e9047 button.colab-df-convert');\n",
              "        buttonEl.style.display =\n",
              "          google.colab.kernel.accessAllowed ? 'block' : 'none';\n",
              "\n",
              "        async function convertToInteractive(key) {\n",
              "          const element = document.querySelector('#df-607539cf-62e2-4cfb-8de3-c6a4701e9047');\n",
              "          const dataTable =\n",
              "            await google.colab.kernel.invokeFunction('convertToInteractive',\n",
              "                                                     [key], {});\n",
              "          if (!dataTable) return;\n",
              "\n",
              "          const docLinkHtml = 'Like what you see? Visit the ' +\n",
              "            '<a target=\"_blank\" href=https://colab.research.google.com/notebooks/data_table.ipynb>data table notebook</a>'\n",
              "            + ' to learn more about interactive tables.';\n",
              "          element.innerHTML = '';\n",
              "          dataTable['output_type'] = 'display_data';\n",
              "          await google.colab.output.renderOutput(dataTable, element);\n",
              "          const docLink = document.createElement('div');\n",
              "          docLink.innerHTML = docLinkHtml;\n",
              "          element.appendChild(docLink);\n",
              "        }\n",
              "      </script>\n",
              "    </div>\n",
              "  </div>\n",
              "  "
            ],
            "text/plain": [
              "          ID  ROP (Time)\n",
              "0          0         0.0\n",
              "1          1         0.0\n",
              "2          2         0.0\n",
              "3          3         0.0\n",
              "4          4         0.0\n",
              "...      ...         ...\n",
              "14389  14389         0.0\n",
              "14390  14390         0.0\n",
              "14391  14391         0.0\n",
              "14392  14392         0.0\n",
              "14393  14393         0.0\n",
              "\n",
              "[14394 rows x 2 columns]"
            ]
          },
          "execution_count": 74,
          "metadata": {},
          "output_type": "execute_result"
        }
      ],
      "source": [
        "submission_df['ID'] = submission_df.reset_index().index\n",
        "submission_df = submission_df[['ID','ROP (Time)']]\n",
        "submission_df"
      ]
    },
    {
      "cell_type": "code",
      "execution_count": 78,
      "metadata": {
        "id": "29I2nAHja1MS"
      },
      "outputs": [],
      "source": [
        "submission_df.to_csv('submission.csv', index=False)"
      ]
    }
  ],
  "metadata": {
    "accelerator": "GPU",
    "colab": {
      "collapsed_sections": [
        "ng6ytdxediWA",
        "x450UJN82H-G",
        "dsOmS3e64USP",
        "rH-8IX6kuHlK",
        "BYOOHlny6g2w",
        "Gq6VNLPl7Rfh",
        "ZBtMmoKjsUEt",
        "kIY51fCkg06g"
      ],
      "provenance": []
    },
    "gpuClass": "standard",
    "kernelspec": {
      "display_name": "Python 3",
      "name": "python3"
    },
    "language_info": {
      "name": "python"
    }
  },
  "nbformat": 4,
  "nbformat_minor": 0
}
